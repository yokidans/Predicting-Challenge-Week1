# Example Jupyter notebook content
import pandas as pd
from src.data_processing import DataProcessor

# Load data
processor = DataProcessor()
df = processor.process_raw_data('../data/raw/fnspid.csv')

# Quick EDA
print(df.info())
print(df.head())

# Plot headline lengths
df['headline_length'].hist(bins=30)